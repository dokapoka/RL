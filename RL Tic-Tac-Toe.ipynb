{
 "cells": [
  {
   "cell_type": "code",
   "execution_count": 1,
   "metadata": {},
   "outputs": [],
   "source": [
    "# !pip install gym"
   ]
  },
  {
   "cell_type": "code",
   "execution_count": 43,
   "metadata": {},
   "outputs": [],
   "source": [
    "import gym\n",
    "from gym import spaces\n",
    "import numpy as np"
   ]
  },
  {
   "cell_type": "code",
   "execution_count": 44,
   "metadata": {},
   "outputs": [],
   "source": [
    "metadata = {'render.modes': ['human']}\n",
    "symbols = ['O', ' ', 'X']\n",
    "state = {}\n",
    "state['board'] = [0, 0, 0, 0, 0, 0, 0, 0, 0]\n",
    "state['on_move'] = 1\n",
    "    \n",
    "action_space = spaces.Discrete(9)\n",
    "observation_space = spaces.Discrete(9*3*2)\n",
    "\n",
    "def step(action):\n",
    "    done = False\n",
    "    reward = 0\n",
    "\n",
    "    p, square = action\n",
    "\n",
    "    board = state['board']\n",
    "    proposed = board[square]\n",
    "    om = state['on_move']\n",
    "    if (proposed != 0):\n",
    "        print(\"illegal move \", action, \". (square occupied): \", square)\n",
    "        done = True\n",
    "        reward = -1 * om\n",
    "    if (p != om):\n",
    "        print(\"illegal move  \", action, \" not on move: \", p)\n",
    "        done = True\n",
    "        reward = -1 * om\n",
    "    else:\n",
    "        board[square] = p\n",
    "        state['on_move'] = -p\n",
    "\n",
    "\n",
    "    for i in range(3):\n",
    "        if ((board[i * 3] == p and board[i * 3 + 1] == p and board[i * 3 + 2] == p)\n",
    "            or (board[i + 0] == p and board[i + 3] == p and board[i + 6] == p)):\n",
    "            reward = p\n",
    "            done = True\n",
    "            break\n",
    "\n",
    "    if((board[0] == p and board[4] == p and board[8] == p)\n",
    "        or (board[2] == p and board[4] == p and board[6] == p)):\n",
    "            reward = p\n",
    "            done = True\n",
    "\n",
    "    return state, reward, done, {}\n",
    "\n",
    "\n",
    "def reset():\n",
    "    state = {}\n",
    "    state['board'] = [0, 0, 0, 0, 0, 0, 0, 0, 0]\n",
    "    state['on_move'] = 1\n",
    "    return state\n",
    "\n",
    "\n",
    "def render(mode='human', close=False):\n",
    "    if close:\n",
    "        return\n",
    "    print(\"on move: \" , symbols[state['on_move']+1])\n",
    "    for i in range (9):\n",
    "        print(symbols[state['board'][i]+1], end=\" \")\n",
    "        if ((i % 3) == 2):\n",
    "            print()\n",
    "\n",
    "            \n",
    "def move_generator():\n",
    "    moves = []\n",
    "    for i in range (9):\n",
    "        if (state['board'][i] == 0):\n",
    "            p = state['on_move']\n",
    "            m = [p, i]\n",
    "            moves.append(m)\n",
    "    return moves"
   ]
  },
  {
   "cell_type": "code",
   "execution_count": 65,
   "metadata": {},
   "outputs": [],
   "source": [
    "state = reset()"
   ]
  },
  {
   "cell_type": "code",
   "execution_count": 66,
   "metadata": {},
   "outputs": [
    {
     "data": {
      "text/plain": [
       "[[1, 0], [1, 1], [1, 2], [1, 3], [1, 4], [1, 5], [1, 6], [1, 7], [1, 8]]"
      ]
     },
     "execution_count": 66,
     "metadata": {},
     "output_type": "execute_result"
    }
   ],
   "source": [
    "move_generator()"
   ]
  },
  {
   "cell_type": "code",
   "execution_count": 71,
   "metadata": {},
   "outputs": [
    {
     "data": {
      "text/plain": [
       "({'board': [1, -1, 1, -1, 0, 0, 0, 0, 0], 'on_move': 1}, 0, False, {})"
      ]
     },
     "execution_count": 71,
     "metadata": {},
     "output_type": "execute_result"
    }
   ],
   "source": [
    "step(move_generator()[0])"
   ]
  },
  {
   "cell_type": "code",
   "execution_count": 77,
   "metadata": {},
   "outputs": [
    {
     "name": "stdout",
     "output_type": "stream",
     "text": [
      "on move:  O\n",
      "X     \n",
      "      \n",
      "      \n",
      "---------\n",
      "reward= 0\n",
      "---------\n",
      "on move:  X\n",
      "X O   \n",
      "      \n",
      "      \n",
      "---------\n",
      "reward= 0\n",
      "---------\n",
      "on move:  O\n",
      "X O X \n",
      "      \n",
      "      \n",
      "---------\n",
      "reward= 0\n",
      "---------\n",
      "on move:  X\n",
      "X O X \n",
      "O     \n",
      "      \n",
      "---------\n",
      "reward= 0\n",
      "---------\n",
      "on move:  O\n",
      "X O X \n",
      "O X   \n",
      "      \n",
      "---------\n",
      "reward= 0\n",
      "---------\n",
      "on move:  X\n",
      "X O X \n",
      "O X O \n",
      "      \n",
      "---------\n",
      "reward= 0\n",
      "---------\n",
      "on move:  O\n",
      "X O X \n",
      "O X O \n",
      "X     \n",
      "---------\n",
      "reward= 1\n",
      "---------\n",
      "on move:  X\n",
      "X O X \n",
      "O X O \n",
      "X O   \n",
      "---------\n",
      "reward= 0\n",
      "---------\n",
      "on move:  O\n",
      "X O X \n",
      "O X O \n",
      "X O X \n",
      "---------\n",
      "reward= 1\n",
      "---------\n"
     ]
    }
   ],
   "source": [
    "state = reset()\n",
    "while len(move_generator()) > 0:\n",
    "    temp = step(move_generator()[0])\n",
    "    state = temp[0]\n",
    "    reward = temp[1]\n",
    "    render(state)\n",
    "    print('---------')\n",
    "    print(f'reward= {reward}')\n",
    "    print('---------')"
   ]
  },
  {
   "cell_type": "code",
   "execution_count": null,
   "metadata": {},
   "outputs": [],
   "source": []
  }
 ],
 "metadata": {
  "kernelspec": {
   "display_name": "Python 3",
   "language": "python",
   "name": "python3"
  },
  "language_info": {
   "codemirror_mode": {
    "name": "ipython",
    "version": 3
   },
   "file_extension": ".py",
   "mimetype": "text/x-python",
   "name": "python",
   "nbconvert_exporter": "python",
   "pygments_lexer": "ipython3",
   "version": "3.7.4"
  }
 },
 "nbformat": 4,
 "nbformat_minor": 2
}
